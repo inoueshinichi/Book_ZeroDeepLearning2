{
 "cells": [
  {
   "cell_type": "code",
   "execution_count": 1,
   "metadata": {},
   "outputs": [],
   "source": [
    "import numpy as np"
   ]
  },
  {
   "cell_type": "markdown",
   "metadata": {},
   "source": [
    "TimeSoftmaxWithLossクラスのbackwardの動作チェック"
   ]
  },
  {
   "cell_type": "code",
   "execution_count": 15,
   "metadata": {},
   "outputs": [],
   "source": [
    "N = 10 # batch_size\n",
    "T = 25 # Time Series\n",
    "V = 100 # Vocabrary Size"
   ]
  },
  {
   "cell_type": "code",
   "execution_count": 20,
   "metadata": {},
   "outputs": [
    {
     "name": "stdout",
     "output_type": "stream",
     "text": [
      "(250, 100)\n"
     ]
    },
    {
     "data": {
      "text/plain": [
       "array([[0.32369525, 0.16740833, 0.67888323, ..., 0.86936893, 0.56004131,\n",
       "        0.35806248],\n",
       "       [0.48212304, 0.47810808, 0.29029196, ..., 0.2498677 , 0.24883379,\n",
       "        0.12674593],\n",
       "       [0.76913456, 0.86462755, 0.74193495, ..., 0.9186964 , 0.05698265,\n",
       "        0.74491183],\n",
       "       ...,\n",
       "       [0.69619853, 0.73751779, 0.60706965, ..., 0.16787814, 0.19703047,\n",
       "        0.79757076],\n",
       "       [0.2488049 , 0.29018982, 0.28183681, ..., 0.7890609 , 0.45471831,\n",
       "        0.42634751],\n",
       "       [0.23807979, 0.59072604, 0.48827377, ..., 0.054286  , 0.80113962,\n",
       "        0.56755198]])"
      ]
     },
     "execution_count": 20,
     "metadata": {},
     "output_type": "execute_result"
    }
   ],
   "source": [
    "rand = np.random.rand\n",
    "ys = rand(N*T, V)\n",
    "print(ys.shape)\n",
    "ys"
   ]
  },
  {
   "cell_type": "code",
   "execution_count": 21,
   "metadata": {},
   "outputs": [
    {
     "data": {
      "text/plain": [
       "(250,)"
      ]
     },
     "execution_count": 21,
     "metadata": {},
     "output_type": "execute_result"
    }
   ],
   "source": [
    "ys_sum = ys.sum(axis=1)\n",
    "ys_sum.shape"
   ]
  },
  {
   "cell_type": "code",
   "execution_count": 23,
   "metadata": {},
   "outputs": [
    {
     "name": "stdout",
     "output_type": "stream",
     "text": [
      "(250, 100)\n"
     ]
    },
    {
     "data": {
      "text/plain": [
       "array([[0.00691196, 0.00357472, 0.0144964 , ..., 0.0185639 , 0.01195873,\n",
       "        0.00764582],\n",
       "       [0.01035885, 0.01027258, 0.00623718, ..., 0.00536863, 0.00534642,\n",
       "        0.00272325],\n",
       "       [0.01424866, 0.01601772, 0.01374477, ..., 0.01701938, 0.00105564,\n",
       "        0.01379992],\n",
       "       ...,\n",
       "       [0.01436486, 0.01521741, 0.01252584, ..., 0.00346388, 0.00406539,\n",
       "        0.0164565 ],\n",
       "       [0.00504435, 0.0058834 , 0.00571405, ..., 0.01599768, 0.00921911,\n",
       "        0.00864391],\n",
       "       [0.00491312, 0.01219049, 0.01007624, ..., 0.00112027, 0.01653268,\n",
       "        0.01171226]])"
      ]
     },
     "execution_count": 23,
     "metadata": {},
     "output_type": "execute_result"
    }
   ],
   "source": [
    "ys_prob = ys / ys_sum[:, np.newaxis]\n",
    "print(ys_prob.shape)\n",
    "ys_prob"
   ]
  },
  {
   "cell_type": "code",
   "execution_count": 27,
   "metadata": {},
   "outputs": [
    {
     "name": "stdout",
     "output_type": "stream",
     "text": [
      "(250,)\n",
      "[17  7 51 12 36 77 41 88 64 83]\n",
      "99\n"
     ]
    }
   ],
   "source": [
    "ys_label = np.argmax(ys_prob, axis=1)\n",
    "print(ys_label.shape)\n",
    "print(ys_label[:10])\n",
    "print(np.max(ys_label))"
   ]
  },
  {
   "cell_type": "code",
   "execution_count": 40,
   "metadata": {},
   "outputs": [
    {
     "name": "stdout",
     "output_type": "stream",
     "text": [
      "ts.shape (250,)\n",
      "dx.shape (250, 100)\n",
      "mask.shape (250,)\n",
      "mask[:3] [ True  True  True]\n"
     ]
    }
   ],
   "source": [
    "ts = np.random.uniform(size=(N*T,), low=0.0, high=99.9).astype(np.int64)\n",
    "print(\"ts.shape\", ts.shape)\n",
    "# print(ts) \n",
    "dx = np.copy(ys_prob)\n",
    "dx[np.arange(N*T), ts] -= 1\n",
    "print(\"dx.shape\", dx.shape)\n",
    "\n",
    "ignore_label = 0 # 仮にid:0を無効ラベルとする\n",
    "mask = (ts != ignore_label)\n",
    "print(\"mask.shape\", mask.shape)\n",
    "print(\"mask[:3]\", mask[:3])"
   ]
  },
  {
   "cell_type": "code",
   "execution_count": 41,
   "metadata": {},
   "outputs": [
    {
     "name": "stdout",
     "output_type": "stream",
     "text": [
      "mask_sum 247\n"
     ]
    }
   ],
   "source": [
    "mask_sum = mask.sum()\n",
    "print(\"mask_sum\", mask_sum)"
   ]
  },
  {
   "cell_type": "code",
   "execution_count": 43,
   "metadata": {},
   "outputs": [],
   "source": [
    "dx /= mask.sum()\n",
    "dx *= mask[:, np.newaxis]"
   ]
  },
  {
   "cell_type": "code",
   "execution_count": 44,
   "metadata": {},
   "outputs": [
    {
     "data": {
      "text/plain": [
       "(250, 100)"
      ]
     },
     "execution_count": 44,
     "metadata": {},
     "output_type": "execute_result"
    }
   ],
   "source": [
    "dx.shape"
   ]
  },
  {
   "cell_type": "code",
   "execution_count": 45,
   "metadata": {},
   "outputs": [
    {
     "data": {
      "text/plain": [
       "(10, 25, 100)"
      ]
     },
     "execution_count": 45,
     "metadata": {},
     "output_type": "execute_result"
    }
   ],
   "source": [
    "dx = dx.reshape((N, T, V))\n",
    "dx.shape"
   ]
  },
  {
   "cell_type": "code",
   "execution_count": null,
   "metadata": {},
   "outputs": [],
   "source": []
  }
 ],
 "metadata": {
  "kernelspec": {
   "display_name": "Python 3",
   "language": "python",
   "name": "python3"
  },
  "language_info": {
   "codemirror_mode": {
    "name": "ipython",
    "version": 3
   },
   "file_extension": ".py",
   "mimetype": "text/x-python",
   "name": "python",
   "nbconvert_exporter": "python",
   "pygments_lexer": "ipython3",
   "version": "3.6.9"
  }
 },
 "nbformat": 4,
 "nbformat_minor": 4
}
